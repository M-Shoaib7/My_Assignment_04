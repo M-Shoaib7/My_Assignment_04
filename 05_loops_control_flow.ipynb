{
  "nbformat": 4,
  "nbformat_minor": 0,
  "metadata": {
    "colab": {
      "provenance": [],
      "authorship_tag": "ABX9TyOj8leMM9KmlM8oaEnxZvJG",
      "include_colab_link": true
    },
    "kernelspec": {
      "name": "python3",
      "display_name": "Python 3"
    },
    "language_info": {
      "name": "python"
    }
  },
  "cells": [
    {
      "cell_type": "markdown",
      "metadata": {
        "id": "view-in-github",
        "colab_type": "text"
      },
      "source": [
        "<a href=\"https://colab.research.google.com/github/M-Shoaib7/My_Assignment_04/blob/main/05_loops_control_flow.ipynb\" target=\"_parent\"><img src=\"https://colab.research.google.com/assets/colab-badge.svg\" alt=\"Open In Colab\"/></a>"
      ]
    },
    {
      "cell_type": "code",
      "execution_count": 1,
      "metadata": {
        "colab": {
          "base_uri": "https://localhost:8080/"
        },
        "id": "gjGA6qLbO3v0",
        "outputId": "fb0603f0-2466-43a2-c2c7-47ad643e75a5"
      },
      "outputs": [
        {
          "output_type": "stream",
          "name": "stdout",
          "text": [
            "00_guess_my_number.\n",
            "I am thinking of a number between 1 and 10....\n",
            "Enter a guess: 7\n",
            "Your guess is too high.\n",
            "Enter a guess: 3\n",
            "Your guess is too high.\n",
            "Enter a guess: 1\n",
            "Your guess is too low.\n",
            "Enter a guess: 2\n",
            "Congratulation! The number was 2\n"
          ]
        }
      ],
      "source": [
        "import random\n",
        "\n",
        "print(\"00_guess_my_number.\")\n",
        "\n",
        "def main():\n",
        "  secret_number = random.randint(1,10)\n",
        "  print(\"I am thinking of a number between 1 and 10....\")\n",
        "\n",
        "  guess = int(input(\"Enter a guess: \"))\n",
        "\n",
        "  while guess != secret_number:\n",
        "    if guess < secret_number:\n",
        "      print(\"Your guess is too low.\")\n",
        "    else:\n",
        "      print(\"Your guess is too high.\")\n",
        "    guess = int(input(\"Enter a guess: \"))\n",
        "\n",
        "  print(f\"Congratulation! The number was {secret_number}\")\n",
        "\n",
        "\n",
        "if __name__ == \"__main__\":\n",
        "  main()"
      ]
    },
    {
      "cell_type": "code",
      "source": [
        "print(\"01_fibonacci\")\n",
        "\n",
        "max_value = 10000\n",
        "\n",
        "def main():\n",
        "  a,b = 0,1\n",
        "  print(a,b, end = \" \")\n",
        "\n",
        "  while True:\n",
        "    c = a+b\n",
        "    if c >= max_value:\n",
        "      break\n",
        "    print(c, end=\" \")\n",
        "    a,b = b,c\n",
        "\n",
        "if __name__ == \"__main__\":\n",
        "  main()"
      ],
      "metadata": {
        "colab": {
          "base_uri": "https://localhost:8080/"
        },
        "id": "CXvGnFzh1wR_",
        "outputId": "9a3f594f-7bba-42ce-b49d-e50a53a6c788"
      },
      "execution_count": 2,
      "outputs": [
        {
          "output_type": "stream",
          "name": "stdout",
          "text": [
            "01_fibonacci\n",
            "0 1 1 2 3 5 8 13 21 34 55 89 144 233 377 610 987 1597 2584 4181 6765 "
          ]
        }
      ]
    },
    {
      "cell_type": "code",
      "source": [
        "print(\"02_print_events\")\n",
        "\n",
        "def main():\n",
        "  for i in range(20):\n",
        "    print(i*2)\n",
        "\n",
        "if __name__ == \"__main__\":\n",
        "  main()"
      ],
      "metadata": {
        "colab": {
          "base_uri": "https://localhost:8080/"
        },
        "id": "dbrFGS7Z2B-4",
        "outputId": "d760b92e-f40b-4319-dc6a-0591e28de15d"
      },
      "execution_count": 3,
      "outputs": [
        {
          "output_type": "stream",
          "name": "stdout",
          "text": [
            "02_print_events\n",
            "0\n",
            "2\n",
            "4\n",
            "6\n",
            "8\n",
            "10\n",
            "12\n",
            "14\n",
            "16\n",
            "18\n",
            "20\n",
            "22\n",
            "24\n",
            "26\n",
            "28\n",
            "30\n",
            "32\n",
            "34\n",
            "36\n",
            "38\n"
          ]
        }
      ]
    },
    {
      "cell_type": "code",
      "source": [
        "print(\"03_wholesome_machine\")\n",
        "\n",
        "correct_affermation = \"I am capable of doing anything. I put my mind too.\"\n",
        "\n",
        "def main():\n",
        "  print(\"Welcome to the Wholesome Machine\")\n",
        "  while True:\n",
        "    user_input = input(\"Please type the following affermation:\" + correct_affermation)\n",
        "    if user_input == correct_affermation:\n",
        "      print(\"That\\'s right! \")\n",
        "      break\n",
        "    else:\n",
        "      print(\"Hmmm That was not the affermation. Please Try Again!\")\n",
        "\n",
        "if __name__ == \"__main__\":\n",
        "  main()"
      ],
      "metadata": {
        "colab": {
          "base_uri": "https://localhost:8080/"
        },
        "id": "1TbuiwZ82Lik",
        "outputId": "21d8226b-50e9-4941-e442-c06e714a02c7"
      },
      "execution_count": 4,
      "outputs": [
        {
          "output_type": "stream",
          "name": "stdout",
          "text": [
            "03_wholesome_machine\n",
            "Welcome to the Wholesome Machine\n",
            "Please type the following affermation:I am capable of doing anything. I put my mind too.I am capable of doing anything. I put my mind too.\n",
            "That's right! \n"
          ]
        }
      ]
    },
    {
      "cell_type": "code",
      "source": [
        "print(\"04_liftoff\")\n",
        "\n",
        "def main():\n",
        "  for i in range(10,0,-1):\n",
        "    print(i,end = \" \")\n",
        "  print(\"liftoff🚀\")\n",
        "\n",
        "if __name__ == \"__main__\":\n",
        "  main()"
      ],
      "metadata": {
        "colab": {
          "base_uri": "https://localhost:8080/"
        },
        "id": "JsKXLO2z2hS4",
        "outputId": "642ea105-ba77-4926-8d58-e59841e077a4"
      },
      "execution_count": 5,
      "outputs": [
        {
          "output_type": "stream",
          "name": "stdout",
          "text": [
            "04_liftoff\n",
            "10 9 8 7 6 5 4 3 2 1 liftoff🚀\n"
          ]
        }
      ]
    },
    {
      "cell_type": "code",
      "source": [
        "print(\"05_double_it\")\n",
        "\n",
        "def main():\n",
        "  user_value = int(input(\"Enter a number: \"))\n",
        "  while user_value < 100:\n",
        "    user_value = user_value * 2\n",
        "    print(user_value)\n",
        "\n",
        "if __name__ == \"__main__\":\n",
        "  main()"
      ],
      "metadata": {
        "colab": {
          "base_uri": "https://localhost:8080/"
        },
        "id": "pEOkFMAJ2mma",
        "outputId": "bed237fb-639c-4ddc-8159-10284d74fcb2"
      },
      "execution_count": 7,
      "outputs": [
        {
          "output_type": "stream",
          "name": "stdout",
          "text": [
            "05_double_it\n",
            "Enter a number: 50\n",
            "100\n"
          ]
        }
      ]
    }
  ]
}