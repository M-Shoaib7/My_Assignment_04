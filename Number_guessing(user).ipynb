{
  "nbformat": 4,
  "nbformat_minor": 0,
  "metadata": {
    "colab": {
      "provenance": [],
      "authorship_tag": "ABX9TyMJ0rzEX0maGB7JfFPrhO88",
      "include_colab_link": true
    },
    "kernelspec": {
      "name": "python3",
      "display_name": "Python 3"
    },
    "language_info": {
      "name": "python"
    }
  },
  "cells": [
    {
      "cell_type": "markdown",
      "metadata": {
        "id": "view-in-github",
        "colab_type": "text"
      },
      "source": [
        "<a href=\"https://colab.research.google.com/github/M-Shoaib7/My_Assignment_04/blob/main/Number_guessing(user).ipynb\" target=\"_parent\"><img src=\"https://colab.research.google.com/assets/colab-badge.svg\" alt=\"Open In Colab\"/></a>"
      ]
    },
    {
      "cell_type": "code",
      "execution_count": 1,
      "metadata": {
        "colab": {
          "base_uri": "https://localhost:8080/"
        },
        "id": "Um-kohORLauv",
        "outputId": "893650f3-7215-48ea-9283-e4cbf11afd14"
      },
      "outputs": [
        {
          "output_type": "stream",
          "name": "stdout",
          "text": [
            "\n",
            " Welcome to the Number Guessing Game. \n",
            "\n",
            "\n",
            "  User Guess the Number  \n",
            "\n",
            " I have a Secret Number between 1 to 10. Can you guess it? \n",
            "Guess the Number.2\n",
            " Too Low! Try again. \n",
            "Guess the Number.5\n",
            " Too Low! Try again. \n",
            "Guess the Number.7\n",
            " Too Low! Try again. \n",
            "Guess the Number.9\n",
            " Too High! Try again. \n",
            "Guess the Number.8\n",
            "Congratulation you guess the right number.\n"
          ]
        }
      ],
      "source": [
        "import random\n",
        "print(\"\\n Welcome to the Number Guessing Game. \\n\")\n",
        "print(\"\\n  User Guess the Number  \\n\")\n",
        "\n",
        "Secret_Number = random.randint(1,10)\n",
        "print(\" I have a Secret Number between 1 to 10. Can you guess it? \")\n",
        "\n",
        "while True:\n",
        "  try:\n",
        "    guess = int(input(\"Guess the Number.\"))\n",
        "\n",
        "    if guess > Secret_Number:\n",
        "      print(\" Too High! Try again. \")\n",
        "    elif guess < Secret_Number:\n",
        "      print(\" Too Low! Try again. \")\n",
        "    else:\n",
        "      print(\"Congratulation you guess the right number.\" )\n",
        "      break\n",
        "  except ValueError:\n",
        "    print(\"Please enter a valid number!\")"
      ]
    }
  ]
}